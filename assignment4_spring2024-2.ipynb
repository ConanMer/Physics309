{
 "cells": [
  {
   "cell_type": "markdown",
   "id": "33885243",
   "metadata": {},
   "source": [
    "# Bohr models of ions\n",
    "\n",
    "The Bohr model works for atoms with only one electron. Adding electrons would require accounting for their mutual Coulomb forces, which would depend on the electrons' locations in their orbits. However, there are ions that have only one electron, for which a small modification to the Bohr model can predict their energy levels.\n",
    "\n",
    "Read the notebook <tt>Bohr_model_extensions.ipynb</tt>, which is on the class GitHub page. You will be using Equation 1 to compare the photon energy that correspond to energy level transitions in hydrogen, singly-ionized helium, and doubly-ionized lithium.\n",
    "\n",
    "Note: you are responsible for importing the packages you need and making sure your axis labels are large enough to be readable.\n",
    "\n",
    "<ol>\n",
    "    <li>Write a function that finds the photon <em>energy</em> in eV (calculate it from the wavelength predicted by the Rydberg equation) that moves an electron between levels $n$ and $n+1$. The independent variables of your function should be $Z$ (atomic number) and $n$. Do not hand-code any constants: use the pre-programmed values in <tt>scipy</tt>.</li>\n",
    "</ol>"
   ]
  },
  {
   "cell_type": "code",
   "execution_count": 66,
   "id": "d9969682",
   "metadata": {
    "tags": []
   },
   "outputs": [],
   "source": [
    "import numpy as np\n",
    "import matplotlib.pyplot as plt\n",
    "import matplotlib.ticker as ticker\n",
    "from scipy import constants\n",
    "\n",
    "E = lambda Z, n: constants.h * constants.c / (1e9 / (Z**2 * constants.Rydberg * (1/(n**2) - 1/((n+1)**2))))"
   ]
  },
  {
   "cell_type": "markdown",
   "id": "3eb29aa5",
   "metadata": {},
   "source": [
    "<ol start = 2>\n",
    "    <li>Use the python function of your choice to create an integer <em>array</em> (not list) of values $n = 1, 2, \\ldots, 10$. Do not simply hard-code in all the numbers by hand. Create a second array (not list) of atomic numbers $Z = 1, 2, 3$, again using a python function.</li>\n",
    "</ol>"
   ]
  },
  {
   "cell_type": "code",
   "execution_count": 118,
   "id": "105af0f4",
   "metadata": {
    "tags": []
   },
   "outputs": [
    {
     "data": {
      "text/plain": [
       "2"
      ]
     },
     "execution_count": 118,
     "metadata": {},
     "output_type": "execute_result"
    }
   ],
   "source": [
    "n = []\n",
    "for k in range(1,11):\n",
    "    n.append(k);\n",
    "    k+1\n",
    "    \n",
    "Z = []\n",
    "for j in range(1,4):\n",
    "    Z.append(j);\n",
    "    j+1\n",
    "    \n",
    "n[1]"
   ]
  },
  {
   "cell_type": "markdown",
   "id": "fdc267f4",
   "metadata": {},
   "source": [
    "<ol start=3>\n",
    "    <li>For each combination of $Z$ and $n$, calculate the energy of light required to move from level $n$ to $n+1$. Store the results in an array with 3 rows and 10 columns. You may find the meshgrid command helpful.</li>\n",
    "</ol>"
   ]
  },
  {
   "cell_type": "code",
   "execution_count": 143,
   "id": "fb38e7e0",
   "metadata": {
    "tags": []
   },
   "outputs": [
    {
     "name": "stdout",
     "output_type": "stream",
     "text": [
      "[[1.47141384e-26 2.72484045e-27 9.53694158e-28 4.41424153e-28\n",
      "  2.39785960e-28 1.44583371e-28 9.38401686e-29 6.43365107e-29\n",
      "  4.60195276e-29 3.40492460e-29]\n",
      " [1.47141384e-26 2.72484045e-27 9.53694158e-28 4.41424153e-28\n",
      "  2.39785960e-28 1.44583371e-28 9.38401686e-29 6.43365107e-29\n",
      "  4.60195276e-29 3.40492460e-29]\n",
      " [1.47141384e-26 2.72484045e-27 9.53694158e-28 4.41424153e-28\n",
      "  2.39785960e-28 1.44583371e-28 9.38401686e-29 6.43365107e-29\n",
      "  4.60195276e-29 3.40492460e-29]]\n"
     ]
    }
   ],
   "source": [
    "Zv, nv = np.meshgrid(Z, n)\n",
    "\n",
    "for i in range(1,4):\n",
    "    for j in range(1,11):\n",
    "        l = j-1\n",
    "        n[l] = E(i,j)\n",
    "        j+1\n",
    "arr = np.transpose(nv)\n",
    "print(arr)"
   ]
  },
  {
   "cell_type": "markdown",
   "id": "4ce0665f",
   "metadata": {},
   "source": [
    "<ol start=4>\n",
    "    <li>Now you are going to make a color-coded plot. With $n$ on the x-axis and $z$ on the y-axis, add a circle to your plot at each $(n,z)$ ordered pair with the color determined by the energy calculated in question 3. Make sure your plot has a colorbar to show the energy scale, and put units on the colorbar. x and y axes should also be labeled.</li>\n",
    "</ol>\n",
    "\n",
    "I am including an example plot showing arbitrary dependent variable $w$ on a color scale as a function of independent variables $u$ and $v$. None of these variables mean anything; this example is just to help you visualize what your plot should look like."
   ]
  },
  {
   "cell_type": "code",
   "execution_count": null,
   "id": "4585afc3",
   "metadata": {
    "tags": []
   },
   "outputs": [],
   "source": []
  },
  {
   "cell_type": "markdown",
   "id": "ecf1d35d",
   "metadata": {},
   "source": [
    "Code that might help you make your plot is in the cell below. You are free to do something else if you prefer."
   ]
  },
  {
   "cell_type": "code",
   "execution_count": 176,
   "id": "d4c9baa3",
   "metadata": {
    "tags": []
   },
   "outputs": [
    {
     "data": {
      "image/png": "[encoded data removed]",
      "text/plain": [
       "<Figure size 600x600 with 1 Axes>"
      ]
     },
     "metadata": {},
     "output_type": "display_data"
    },
    {
     "data": {
      "text/plain": [
       "<Figure size 640x480 with 0 Axes>"
      ]
     },
     "metadata": {},
     "output_type": "display_data"
    }
   ],
   "source": [
    "from mpl_toolkits.axes_grid1 import make_axes_locatable\n",
    "\n",
    "ycomp = np.hsplit(arr,10)\n",
    "xcomp = np.vsplit(arr,3)\n",
    "fig, ax = plt.subplots(1, 1, figsize=(6,6))\n",
    "\n",
    "        plot1 = ax.scatter(arr[i,j], arr[i,j]) # Look up how to make a color-coded scatter plot\n",
    "        plt.show()\n",
    "ax.set_aspect('equal')\n",
    "\n",
    "# Create a colorbar axis on the right side of ax. The width of cax will be 8%\n",
    "# of ax and the padding between cax and ax will be fixed at 0.1 inch.\n",
    "divider = make_axes_locatable(ax)\n",
    "cax = divider.append_axes(\"right\", size=\"8%\", pad=0.1)\n",
    "cbar = plt.colorbar(plot1, cax=cax)\n",
    "cbar.ax.tick_params(labelsize=12) \n",
    "cbar.set_label('...')"
   ]
  },
  {
   "cell_type": "code",
   "execution_count": null,
   "id": "5867b6c3-0268-437a-abd2-d6b01bf52ec9",
   "metadata": {},
   "outputs": [],
   "source": []
  }
 ],
 "metadata": {
  "kernelspec": {
   "display_name": "Python 3 (ipykernel)",
   "language": "python",
   "name": "python3"
  },
  "language_info": {
   "codemirror_mode": {
    "name": "ipython",
    "version": 3
   },
   "file_extension": ".py",
   "mimetype": "text/x-python",
   "name": "python",
   "nbconvert_exporter": "python",
   "pygments_lexer": "ipython3",
   "version": "3.11.5"
  }
 },
 "nbformat": 4,
 "nbformat_minor": 5
}
